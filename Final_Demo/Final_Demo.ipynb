{
 "cells": [
  {
   "cell_type": "code",
   "execution_count": null,
   "id": "3c94721e",
   "metadata": {
    "slideshow": {
     "slide_type": "-"
    }
   },
   "outputs": [],
   "source": [
    "from IPython.display import HTML\n",
    "import random\n",
    "\n",
    "def hide_toggle(for_next=False):\n",
    "    this_cell = \"\"\"$('div.cell.code_cell.rendered.selected')\"\"\"\n",
    "    next_cell = this_cell + '.next()'\n",
    "\n",
    "    toggle_text = 'Toggle show/hide'  # text shown on toggle link\n",
    "    target_cell = this_cell  # target cell to control with toggle\n",
    "    js_hide_current = ''  # bit of JS to permanently hide code in current cell (only when toggling next cell)\n",
    "\n",
    "    if for_next:\n",
    "        target_cell = next_cell\n",
    "        toggle_text += ' next cell'\n",
    "        js_hide_current = this_cell + '.find(\"div.input\").hide();'\n",
    "\n",
    "    js_f_name = 'code_toggle_{}'.format(str(random.randint(1,2**64)))\n",
    "\n",
    "    html = \"\"\"\n",
    "        <script>\n",
    "            function {f_name}() {{\n",
    "                {cell_selector}.find('div.input').toggle();\n",
    "            }}\n",
    "\n",
    "            {js_hide_current}\n",
    "        </script>\n",
    "\n",
    "        <a href=\"javascript:{f_name}()\">{toggle_text}</a>\n",
    "    \"\"\".format(\n",
    "        f_name=js_f_name,\n",
    "        cell_selector=target_cell,\n",
    "        js_hide_current=js_hide_current, \n",
    "        toggle_text=toggle_text\n",
    "    )\n",
    "\n",
    "    return HTML(html)"
   ]
  },
  {
   "cell_type": "markdown",
   "id": "a8962d6b",
   "metadata": {},
   "source": [
    "## Import Libraries"
   ]
  },
  {
   "cell_type": "code",
   "execution_count": 1,
   "id": "20222bbf",
   "metadata": {},
   "outputs": [],
   "source": [
    "# IMPORT LIBRARIES\n",
    "from nrclex import NRCLex\n",
    "import json"
   ]
  },
  {
   "cell_type": "markdown",
   "id": "2477654b",
   "metadata": {},
   "source": [
    "## JSON"
   ]
  },
  {
   "cell_type": "code",
   "execution_count": 2,
   "id": "339090a5",
   "metadata": {},
   "outputs": [],
   "source": [
    "\n",
    "# ----------------------------------------------------------------------------------------\n",
    "\n",
    "# JSONS\n",
    "\n",
    "# ----------------------------------------------------------------------------------------\n",
    "# Open our libra data json with its average emotions\n",
    "with open(\"./jsons/grand_totals/libra_grand_average.json\", 'r') as libra_fil:\n",
    "    # Load in the dictionary object from the .json file\n",
    "    libra_averages = json.load(libra_fil)\n",
    "\n",
    "# Open our gemini data json with its average emotions\n",
    "with open(\"./jsons/grand_totals/gemini_grand_average_example.json\", 'r') as gemini_fil:\n",
    "    # Load in the dictionary object from the .json file\n",
    "    gemini_averages = json.load(gemini_fil)\n",
    "\n",
    "# Open our leo data json with its average emotions\n",
    "with open(\"./jsons/grand_totals/leo_grand_average_example.json\", 'r') as leo_fil:\n",
    "    # Load in the dictionary object from the .json file\n",
    "    leo_averages = json.load(leo_fil)\n",
    "\n",
    "prop_all = {'positive': [], 'negative': [], 'fear': [], 'anger': [], 'anticip': [], 'trust': [], 'surprise': [],\n",
    "          'sadness': [], 'disgust': [], 'joy': []}"
   ]
  },
  {
   "cell_type": "code",
   "execution_count": 4,
   "id": "a26e7a75",
   "metadata": {},
   "outputs": [
    {
     "data": {
      "text/plain": [
       "{'positive': [0.19180811841179818, 0.5, 0.15, 0.19180811841179818, 0.5, 0.15],\n",
       " 'negative': [0.14391925490881236, 0.2, 0.12, 0.14391925490881236, 0.2, 0.12],\n",
       " 'fear': [0.07434873958991314, 0.04, 0.3, 0.07434873958991314, 0.04, 0.3],\n",
       " 'anger': [0.07568732332531439, 0.03, 0.07, 0.07568732332531439, 0.03, 0.07],\n",
       " 'anticip': [0.11049139641879573, 0.5, 0.2, 0.11049139641879573, 0.5, 0.2],\n",
       " 'trust': [0.10822100071229859, 0.32, 0.1, 0.10822100071229859, 0.32, 0.1],\n",
       " 'surprise': [0.0509875862934043, 0.02, 0.52, 0.0509875862934043, 0.02, 0.52],\n",
       " 'sadness': [0.07495934522289571, 0.1, 0.09, 0.07495934522289571, 0.1, 0.09],\n",
       " 'disgust': [0.05963775809623647, 0.05, 0.1, 0.05963775809623647, 0.05, 0.1],\n",
       " 'joy': [0.10993947702053124, 0.3, 0.05, 0.10993947702053124, 0.3, 0.05]}"
      ]
     },
     "execution_count": 4,
     "metadata": {},
     "output_type": "execute_result"
    }
   ],
   "source": [
    "for emotion in libra_averages[3]:\n",
    "    if emotion == \"anticipation\":\n",
    "            prop_all['anticip'].append(libra_averages[3][emotion])\n",
    "    else:\n",
    "        prop_all[emotion].append(libra_averages[3][emotion])\n",
    "\n",
    "for emotion in gemini_averages[0]:\n",
    "    if emotion == \"anticipation\":\n",
    "        prop_all['anticip'].append(gemini_averages[0][emotion])\n",
    "    else:\n",
    "        prop_all[emotion].append(gemini_averages[0][emotion])\n",
    "\n",
    "for emotion in leo_averages[0]:\n",
    "    if emotion == \"anticipation\":\n",
    "        prop_all['anticip'].append(leo_averages[0][emotion])\n",
    "    else:\n",
    "        prop_all[emotion].append(leo_averages[0][emotion])\n",
    "        \n",
    "prop_all"
   ]
  },
  {
   "cell_type": "markdown",
   "id": "93480769",
   "metadata": {},
   "source": [
    "## NRCLex"
   ]
  },
  {
   "cell_type": "code",
   "execution_count": 20,
   "id": "7d22ca0d",
   "metadata": {
    "scrolled": true
   },
   "outputs": [
    {
     "data": {
      "text/plain": [
       "{'fear': 0.0,\n",
       " 'anger': 0.0,\n",
       " 'anticip': 0.0,\n",
       " 'trust': 0.25,\n",
       " 'surprise': 0.0,\n",
       " 'positive': 0.5,\n",
       " 'negative': 0.0,\n",
       " 'sadness': 0.0,\n",
       " 'disgust': 0.0,\n",
       " 'joy': 0.25}"
      ]
     },
     "execution_count": 20,
     "metadata": {},
     "output_type": "execute_result"
    }
   ],
   "source": [
    "# ----------------------------------------------------------------------------------------\n",
    "\n",
    "# NRCLex\n",
    "\n",
    "# ----------------------------------------------------------------------------------------\n",
    "input = \"It's kind of a very cool day. I don't like it.\"\n",
    "\n",
    "# Create text object\n",
    "text_object = NRCLex(input)\n",
    "\n",
    "# Store emotion score frequency (averages of emotion words, part / whole)\n",
    "input_emotions_freq = text_object.affect_frequencies\n",
    "\n",
    "# Store frequencies in dictionary \n",
    "prop_input = dict()\n",
    "for emotion in input_emotions_freq:\n",
    "    prop_input[emotion] = input_emotions_freq[emotion]\n",
    "\n",
    "input_emotions_freq"
   ]
  },
  {
   "cell_type": "code",
   "execution_count": 21,
   "id": "b6abebb8",
   "metadata": {},
   "outputs": [
    {
     "data": {
      "text/plain": [
       "[{'fear': 0.04},\n",
       " {'anger': 0.03},\n",
       " {'anticip': 0.11049139641879573},\n",
       " {'trust': 0.32},\n",
       " {'surprise': 0.02},\n",
       " {'positive': 0.5},\n",
       " {'negative': 0.12},\n",
       " {'sadness': 0.07495934522289571},\n",
       " {'disgust': 0.05},\n",
       " {'joy': 0.3}]"
      ]
     },
     "execution_count": 21,
     "metadata": {},
     "output_type": "execute_result"
    }
   ],
   "source": [
    "# Get the number that is closest to our input number for each emotion, and append to results dictionary\n",
    "results = []\n",
    "for emotion in prop_input:\n",
    "    # Lambda function = function without a name. Iterates through each emotion and finds the minimum absolute value from\n",
    "    # the input average of that emotion.\n",
    "    output = min(prop_all[emotion], key=lambda x: abs(x-prop_input[emotion]))\n",
    "\n",
    "    results.append({emotion: output})\n",
    "results"
   ]
  },
  {
   "cell_type": "code",
   "execution_count": 22,
   "id": "46040c4b",
   "metadata": {},
   "outputs": [
    {
     "name": "stdout",
     "output_type": "stream",
     "text": [
      "[2, 7, 1]\n"
     ]
    },
    {
     "data": {
      "text/plain": [
       "[{'fear': ['GEMINI', 0.04]},\n",
       " {'anger': ['GEMINI', 0.03]},\n",
       " {'anticip': ['LIBRA', 0.11049139641879573]},\n",
       " {'trust': ['GEMINI', 0.32]},\n",
       " {'surprise': ['GEMINI', 0.02]},\n",
       " {'positive': ['GEMINI', 0.5]},\n",
       " {'negative': ['LEO', 0.12]},\n",
       " {'sadness': ['LIBRA', 0.07495934522289571]},\n",
       " {'disgust': ['GEMINI', 0.05]},\n",
       " {'joy': ['GEMINI', 0.3]}]"
      ]
     },
     "execution_count": 22,
     "metadata": {},
     "output_type": "execute_result"
    }
   ],
   "source": [
    "# Count how many closest numbers are libra, gemini, or leo. Replace with name and number.\n",
    "libra_count = 0\n",
    "gem_count = 0\n",
    "leo_count = 0\n",
    "counts = []\n",
    "\n",
    "for i in results:\n",
    "    for emotion in i:\n",
    "        if i[emotion] == prop_all[emotion][0]:\n",
    "            i[emotion] = ['LIBRA', prop_all[emotion][0]]\n",
    "            libra_count += 1\n",
    "        elif i[emotion] == prop_all[emotion][1]:\n",
    "            i[emotion] = ['GEMINI', prop_all[emotion][1]]\n",
    "            gem_count += 1\n",
    "        elif i[emotion] == prop_all[emotion][2]:\n",
    "            i[emotion] = ['LEO', prop_all[emotion][2]]\n",
    "            leo_count += 1\n",
    "\n",
    "counts.append(libra_count)\n",
    "counts.append(gem_count)\n",
    "counts.append(leo_count)\n",
    "\n",
    "print(counts)\n",
    "results"
   ]
  },
  {
   "cell_type": "markdown",
   "id": "17da542a",
   "metadata": {},
   "source": [
    "## Output\n",
    "\n",
    "Out of the star sign emotion averages, which is closest to the input string's emotional average? "
   ]
  },
  {
   "cell_type": "code",
   "execution_count": 23,
   "id": "8d8c6dd6",
   "metadata": {},
   "outputs": [
    {
     "name": "stdout",
     "output_type": "stream",
     "text": [
      "GEMINI\n",
      "\n",
      "INPUT AVERAGES: {'fear': 0.0, 'anger': 0.0, 'anticip': 0.0, 'trust': 0.25, 'surprise': 0.0, 'positive': 0.5, 'negative': 0.0, 'sadness': 0.0, 'disgust': 0.0, 'joy': 0.25}\n",
      "\n",
      "SIGN AVERAGES: {'positive': [0.19180811841179818, 0.5, 0.15, 0.19180811841179818, 0.5, 0.15], 'negative': [0.14391925490881236, 0.2, 0.12, 0.14391925490881236, 0.2, 0.12], 'fear': [0.07434873958991314, 0.04, 0.3, 0.07434873958991314, 0.04, 0.3], 'anger': [0.07568732332531439, 0.03, 0.07, 0.07568732332531439, 0.03, 0.07], 'anticip': [0.11049139641879573, 0.5, 0.2, 0.11049139641879573, 0.5, 0.2], 'trust': [0.10822100071229859, 0.32, 0.1, 0.10822100071229859, 0.32, 0.1], 'surprise': [0.0509875862934043, 0.02, 0.52, 0.0509875862934043, 0.02, 0.52], 'sadness': [0.07495934522289571, 0.1, 0.09, 0.07495934522289571, 0.1, 0.09], 'disgust': [0.05963775809623647, 0.05, 0.1, 0.05963775809623647, 0.05, 0.1], 'joy': [0.10993947702053124, 0.3, 0.05, 0.10993947702053124, 0.3, 0.05]}\n",
      "\n",
      "[\n",
      "    {\n",
      "        \"fear\": [\n",
      "            \"GEMINI\",\n",
      "            0.04\n",
      "        ]\n",
      "    },\n",
      "    {\n",
      "        \"anger\": [\n",
      "            \"GEMINI\",\n",
      "            0.03\n",
      "        ]\n",
      "    },\n",
      "    {\n",
      "        \"anticip\": [\n",
      "            \"LIBRA\",\n",
      "            0.11049139641879573\n",
      "        ]\n",
      "    },\n",
      "    {\n",
      "        \"trust\": [\n",
      "            \"GEMINI\",\n",
      "            0.32\n",
      "        ]\n",
      "    },\n",
      "    {\n",
      "        \"surprise\": [\n",
      "            \"GEMINI\",\n",
      "            0.02\n",
      "        ]\n",
      "    },\n",
      "    {\n",
      "        \"positive\": [\n",
      "            \"GEMINI\",\n",
      "            0.5\n",
      "        ]\n",
      "    },\n",
      "    {\n",
      "        \"negative\": [\n",
      "            \"LEO\",\n",
      "            0.12\n",
      "        ]\n",
      "    },\n",
      "    {\n",
      "        \"sadness\": [\n",
      "            \"LIBRA\",\n",
      "            0.07495934522289571\n",
      "        ]\n",
      "    },\n",
      "    {\n",
      "        \"disgust\": [\n",
      "            \"GEMINI\",\n",
      "            0.05\n",
      "        ]\n",
      "    },\n",
      "    {\n",
      "        \"joy\": [\n",
      "            \"GEMINI\",\n",
      "            0.3\n",
      "        ]\n",
      "    }\n",
      "]\n"
     ]
    },
    {
     "data": {
      "text/plain": [
       "\" \\nExample:\\n\\n'fear' input = .125\\nfear for all signs = [0.07434873958991314, 0.04, 0.3]\\n                        Libra               G    Leo \\n*Libra (.074) is the closest to .125*\\n\\n\""
      ]
     },
     "execution_count": 23,
     "metadata": {},
     "output_type": "execute_result"
    }
   ],
   "source": [
    "# Get the index of the max number of matches\n",
    "final_verdict = counts.index(max(counts))\n",
    "\n",
    "# Match to a star sign (0 = Libra, 1 = Gemini, 2 = Leo) based on how we appended\n",
    "if final_verdict == 0:\n",
    "    print(\"LIBRA\")\n",
    "elif final_verdict == 1:\n",
    "    print(\"GEMINI\")\n",
    "elif final_verdict == 2:\n",
    "    print(\"LEO\")\n",
    "    \n",
    "print()\n",
    "\n",
    "# Frequencies for input string\n",
    "print(\"INPUT AVERAGES: \" + str(prop_input))\n",
    "print()\n",
    "# Sign frequencies per emotion, [0] = Libra, [1] = Gem, [2] = Leo\n",
    "print(\"SIGN AVERAGES: \" + str(prop_all))# json.dumps(prop_all, indent=4))\n",
    "print()\n",
    "# Output pretty with indents\n",
    "print(json.dumps(results,indent=4))\n",
    "\n",
    "''' \n",
    "Example:\n",
    "\n",
    "'fear' input = .125\n",
    "fear for all signs = [0.07434873958991314, 0.04, 0.3]\n",
    "                        Libra               G    Leo \n",
    "*Libra (.074) is the closest to .125*\n",
    "\n",
    "'''"
   ]
  },
  {
   "cell_type": "code",
   "execution_count": null,
   "id": "79b67380",
   "metadata": {},
   "outputs": [],
   "source": []
  }
 ],
 "metadata": {
  "kernelspec": {
   "display_name": "Python 3 (ipykernel)",
   "language": "python",
   "name": "python3"
  },
  "language_info": {
   "codemirror_mode": {
    "name": "ipython",
    "version": 3
   },
   "file_extension": ".py",
   "mimetype": "text/x-python",
   "name": "python",
   "nbconvert_exporter": "python",
   "pygments_lexer": "ipython3",
   "version": "3.8.12"
  }
 },
 "nbformat": 4,
 "nbformat_minor": 5
}
